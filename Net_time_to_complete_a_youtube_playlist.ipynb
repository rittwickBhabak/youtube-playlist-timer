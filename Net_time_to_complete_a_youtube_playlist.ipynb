{
 "cells": [
  {
   "cell_type": "markdown",
   "metadata": {},
   "source": [
    "# Get Playlist Details"
   ]
  },
  {
   "cell_type": "code",
   "execution_count": 4,
   "metadata": {},
   "outputs": [
    {
     "name": "stdout",
     "output_type": "stream",
     "text": [
      "Enter playlist link: https://www.youtube.com/playlist?list=PLu0W_9lII9agS67Uits0UnJyrYiXhDS6q\n",
      "Java Tutorials For Beginners In Hindi\n",
      "13:26:17\n"
     ]
    }
   ],
   "source": [
    "import requests, bs4, json\n",
    "def get_details(url):\n",
    "    def extract_source(url):\n",
    "        headers = {'User-Agent': 'Mozilla/5.0 (Windows NT 6.1; WOW64; rv:50.0) Gecko/20100101 Firefox/50.0'}\n",
    "        source = requests.get(url, headers=headers).text\n",
    "        return source\n",
    "    html = extract_source(url)\n",
    "    soup = bs4.BeautifulSoup(html)\n",
    "    scripts = soup.select('script')\n",
    "    x = -1\n",
    "    for index, script in enumerate(scripts):\n",
    "        if ('window[\"ytInitialData\"]' in str(script)):\n",
    "            x = index\n",
    "    json_data = json.loads(scripts[x].getText()[31:-110])\n",
    "    playListTitle = json_data['microformat']['microformatDataRenderer']['title']\n",
    "    videos = json_data['contents']['twoColumnBrowseResultsRenderer']['tabs'][0]['tabRenderer']['content']['sectionListRenderer']['contents'][0]['itemSectionRenderer']['contents'][0]['playlistVideoListRenderer']['contents']\n",
    "    total_seconds = 0\n",
    "    for video in videos:\n",
    "        total_seconds = total_seconds + int(video['playlistVideoRenderer']['lengthSeconds'])\n",
    "#         video_title = video['playlistVideoRenderer']['title']['simpleText']\n",
    "    hour = total_seconds//3600\n",
    "    minutes = (total_seconds - 3600*hour)//60\n",
    "    second = total_seconds - (3600*hour) - (60*minutes)\n",
    "    print(playListTitle)\n",
    "    print(hour,minutes,second,sep=':')\n",
    "#     return playListTitle,total_seconds\n",
    "\n",
    "url = input('Enter playlist link: ')    \n",
    "get_details(url)"
   ]
  },
  {
   "cell_type": "markdown",
   "metadata": {},
   "source": [
    "# Get channel details"
   ]
  },
  {
   "cell_type": "code",
   "execution_count": 5,
   "metadata": {},
   "outputs": [
    {
     "name": "stdout",
     "output_type": "stream",
     "text": [
      "Enter channel playlist page link: https://www.youtube.com/c/CodeWithHarry/playlists\n",
      "JavaScript Tutorials In Hindi --> 26:17:14\n",
      "PHP Tutorials in Hindi --> 23:22:40\n",
      "Git and GitHub Tutorials In Hindi --> 1:27:51\n",
      "[Hindi] Basic Python Programs --> 0:41:12\n",
      "[Hindi] Coding Discussion With Harry --> 9:42:39\n",
      "Web Development Tutorials For Beginners In Hindi: HTML, CSS, JavaScript & More --> 30:10:34\n",
      "Complete Roadmaps by Code With Harry --> 1:34:23\n",
      "Projects Using HTML, CSS & JavaScript in Hindi --> 5:48:25\n",
      "Complete Git Tutorials For Beginners In Hindi --> 5:4:37\n",
      "Android Development Tutorials in Hindi --> 12:22:24\n",
      "#OneQuickQuestion - Answers to your Coding & Learning Questions! --> 0:5:15\n",
      "Machine Learning Tutorials For Beginners Using Python In Hindi --> 9:45:53\n",
      "Intermediate/Advanced python Tutorials in Hindi --> 2:10:40\n",
      "Python Django Tutorials In Hindi --> 22:32:27\n",
      "C++ Tutorials In Hindi --> 21:53:44\n",
      "Realtime PHP Chatroom Using PHP & Jquery --> 1:13:22\n"
     ]
    },
    {
     "ename": "IndexError",
     "evalue": "list index out of range",
     "output_type": "error",
     "traceback": [
      "\u001b[1;31m---------------------------------------------------------------------------\u001b[0m",
      "\u001b[1;31mIndexError\u001b[0m                                Traceback (most recent call last)",
      "\u001b[1;32m<ipython-input-5-0c92f19678ea>\u001b[0m in \u001b[0;36m<module>\u001b[1;34m\u001b[0m\n\u001b[0;32m     38\u001b[0m \u001b[1;33m\u001b[0m\u001b[0m\n\u001b[0;32m     39\u001b[0m \u001b[0murl\u001b[0m \u001b[1;33m=\u001b[0m \u001b[0minput\u001b[0m\u001b[1;33m(\u001b[0m\u001b[1;34m'Enter channel playlist page link: '\u001b[0m\u001b[1;33m)\u001b[0m\u001b[1;33m\u001b[0m\u001b[1;33m\u001b[0m\u001b[0m\n\u001b[1;32m---> 40\u001b[1;33m \u001b[0mchannel_details\u001b[0m\u001b[1;33m(\u001b[0m\u001b[0murl\u001b[0m\u001b[1;33m)\u001b[0m\u001b[1;33m\u001b[0m\u001b[1;33m\u001b[0m\u001b[0m\n\u001b[0m",
      "\u001b[1;32m<ipython-input-5-0c92f19678ea>\u001b[0m in \u001b[0;36mchannel_details\u001b[1;34m(url)\u001b[0m\n\u001b[0;32m     35\u001b[0m     \u001b[1;32mfor\u001b[0m \u001b[0mplaylist\u001b[0m \u001b[1;32min\u001b[0m \u001b[0mplaylists\u001b[0m\u001b[1;33m:\u001b[0m\u001b[1;33m\u001b[0m\u001b[1;33m\u001b[0m\u001b[0m\n\u001b[0;32m     36\u001b[0m         \u001b[0mplaylist\u001b[0m \u001b[1;33m=\u001b[0m \u001b[1;34m'https://www.youtube.com/playlist?list='\u001b[0m\u001b[1;33m+\u001b[0m\u001b[0mplaylist\u001b[0m\u001b[1;33m.\u001b[0m\u001b[0mreplace\u001b[0m\u001b[1;33m(\u001b[0m\u001b[1;34m'\"playlistId\":\"'\u001b[0m\u001b[1;33m,\u001b[0m\u001b[1;34m''\u001b[0m\u001b[1;33m)\u001b[0m\u001b[1;33m.\u001b[0m\u001b[0mreplace\u001b[0m\u001b[1;33m(\u001b[0m\u001b[1;34m'\",'\u001b[0m\u001b[1;33m,\u001b[0m\u001b[1;34m''\u001b[0m\u001b[1;33m)\u001b[0m\u001b[1;33m\u001b[0m\u001b[1;33m\u001b[0m\u001b[0m\n\u001b[1;32m---> 37\u001b[1;33m         \u001b[0mget_details\u001b[0m\u001b[1;33m(\u001b[0m\u001b[0mplaylist\u001b[0m\u001b[1;33m)\u001b[0m\u001b[1;33m\u001b[0m\u001b[1;33m\u001b[0m\u001b[0m\n\u001b[0m\u001b[0;32m     38\u001b[0m \u001b[1;33m\u001b[0m\u001b[0m\n\u001b[0;32m     39\u001b[0m \u001b[0murl\u001b[0m \u001b[1;33m=\u001b[0m \u001b[0minput\u001b[0m\u001b[1;33m(\u001b[0m\u001b[1;34m'Enter channel playlist page link: '\u001b[0m\u001b[1;33m)\u001b[0m\u001b[1;33m\u001b[0m\u001b[1;33m\u001b[0m\u001b[0m\n",
      "\u001b[1;32m<ipython-input-5-0c92f19678ea>\u001b[0m in \u001b[0;36mget_details\u001b[1;34m(url)\u001b[0m\n\u001b[0;32m     12\u001b[0m         \u001b[1;32mif\u001b[0m \u001b[1;33m(\u001b[0m\u001b[1;34m'window[\"ytInitialData\"]'\u001b[0m \u001b[1;32min\u001b[0m \u001b[0mstr\u001b[0m\u001b[1;33m(\u001b[0m\u001b[0mscript\u001b[0m\u001b[1;33m)\u001b[0m\u001b[1;33m)\u001b[0m\u001b[1;33m:\u001b[0m\u001b[1;33m\u001b[0m\u001b[1;33m\u001b[0m\u001b[0m\n\u001b[0;32m     13\u001b[0m             \u001b[0mx\u001b[0m \u001b[1;33m=\u001b[0m \u001b[0mindex\u001b[0m\u001b[1;33m\u001b[0m\u001b[1;33m\u001b[0m\u001b[0m\n\u001b[1;32m---> 14\u001b[1;33m     \u001b[0mjson_data\u001b[0m \u001b[1;33m=\u001b[0m \u001b[0mjson\u001b[0m\u001b[1;33m.\u001b[0m\u001b[0mloads\u001b[0m\u001b[1;33m(\u001b[0m\u001b[0mscripts\u001b[0m\u001b[1;33m[\u001b[0m\u001b[0mx\u001b[0m\u001b[1;33m]\u001b[0m\u001b[1;33m.\u001b[0m\u001b[0mgetText\u001b[0m\u001b[1;33m(\u001b[0m\u001b[1;33m)\u001b[0m\u001b[1;33m[\u001b[0m\u001b[1;36m31\u001b[0m\u001b[1;33m:\u001b[0m\u001b[1;33m-\u001b[0m\u001b[1;36m110\u001b[0m\u001b[1;33m]\u001b[0m\u001b[1;33m)\u001b[0m\u001b[1;33m\u001b[0m\u001b[1;33m\u001b[0m\u001b[0m\n\u001b[0m\u001b[0;32m     15\u001b[0m     \u001b[0mplayListTitle\u001b[0m \u001b[1;33m=\u001b[0m \u001b[0mjson_data\u001b[0m\u001b[1;33m[\u001b[0m\u001b[1;34m'microformat'\u001b[0m\u001b[1;33m]\u001b[0m\u001b[1;33m[\u001b[0m\u001b[1;34m'microformatDataRenderer'\u001b[0m\u001b[1;33m]\u001b[0m\u001b[1;33m[\u001b[0m\u001b[1;34m'title'\u001b[0m\u001b[1;33m]\u001b[0m\u001b[1;33m\u001b[0m\u001b[1;33m\u001b[0m\u001b[0m\n\u001b[0;32m     16\u001b[0m     \u001b[0mvideos\u001b[0m \u001b[1;33m=\u001b[0m \u001b[0mjson_data\u001b[0m\u001b[1;33m[\u001b[0m\u001b[1;34m'contents'\u001b[0m\u001b[1;33m]\u001b[0m\u001b[1;33m[\u001b[0m\u001b[1;34m'twoColumnBrowseResultsRenderer'\u001b[0m\u001b[1;33m]\u001b[0m\u001b[1;33m[\u001b[0m\u001b[1;34m'tabs'\u001b[0m\u001b[1;33m]\u001b[0m\u001b[1;33m[\u001b[0m\u001b[1;36m0\u001b[0m\u001b[1;33m]\u001b[0m\u001b[1;33m[\u001b[0m\u001b[1;34m'tabRenderer'\u001b[0m\u001b[1;33m]\u001b[0m\u001b[1;33m[\u001b[0m\u001b[1;34m'content'\u001b[0m\u001b[1;33m]\u001b[0m\u001b[1;33m[\u001b[0m\u001b[1;34m'sectionListRenderer'\u001b[0m\u001b[1;33m]\u001b[0m\u001b[1;33m[\u001b[0m\u001b[1;34m'contents'\u001b[0m\u001b[1;33m]\u001b[0m\u001b[1;33m[\u001b[0m\u001b[1;36m0\u001b[0m\u001b[1;33m]\u001b[0m\u001b[1;33m[\u001b[0m\u001b[1;34m'itemSectionRenderer'\u001b[0m\u001b[1;33m]\u001b[0m\u001b[1;33m[\u001b[0m\u001b[1;34m'contents'\u001b[0m\u001b[1;33m]\u001b[0m\u001b[1;33m[\u001b[0m\u001b[1;36m0\u001b[0m\u001b[1;33m]\u001b[0m\u001b[1;33m[\u001b[0m\u001b[1;34m'playlistVideoListRenderer'\u001b[0m\u001b[1;33m]\u001b[0m\u001b[1;33m[\u001b[0m\u001b[1;34m'contents'\u001b[0m\u001b[1;33m]\u001b[0m\u001b[1;33m\u001b[0m\u001b[1;33m\u001b[0m\u001b[0m\n",
      "\u001b[1;31mIndexError\u001b[0m: list index out of range"
     ]
    }
   ],
   "source": [
    "import bs4, requests, re, json\n",
    "def get_details(url):\n",
    "    def extract_source(url):\n",
    "        headers = {'User-Agent': 'Mozilla/5.0 (Windows NT 6.1; WOW64; rv:50.0) Gecko/20100101 Firefox/50.0'}\n",
    "        source = requests.get(url, headers=headers).text\n",
    "        return source\n",
    "    html = extract_source(url)\n",
    "    soup = bs4.BeautifulSoup(html)\n",
    "    scripts = soup.select('script')\n",
    "    x = -1\n",
    "    for index, script in enumerate(scripts):\n",
    "        if ('window[\"ytInitialData\"]' in str(script)):\n",
    "            x = index\n",
    "    json_data = json.loads(scripts[x].getText()[31:-110])\n",
    "    playListTitle = json_data['microformat']['microformatDataRenderer']['title']\n",
    "    videos = json_data['contents']['twoColumnBrowseResultsRenderer']['tabs'][0]['tabRenderer']['content']['sectionListRenderer']['contents'][0]['itemSectionRenderer']['contents'][0]['playlistVideoListRenderer']['contents']\n",
    "    total_seconds = 0\n",
    "    for video in videos:\n",
    "        total_seconds = total_seconds + int(video['playlistVideoRenderer']['lengthSeconds'])\n",
    "#         video_title = video['playlistVideoRenderer']['title']['simpleText']\n",
    "    hour = total_seconds//3600\n",
    "    minutes = (total_seconds - 3600*hour)//60\n",
    "    second = total_seconds - (3600*hour) - (60*minutes)\n",
    "    print(playListTitle, end = ' --> ')\n",
    "    print(hour,minutes,second,sep=':')\n",
    "#     return playListTitle,total_seconds\n",
    "def channel_details(url):\n",
    "    def source(url):\n",
    "        headers = {'User-Agent': 'Mozilla/5.0 (Windows NT 6.1; WOW64; rv:50.0) Gecko/20100101 Firefox/50.0'}\n",
    "        source = requests.get(url, headers=headers).text\n",
    "        return source\n",
    "    html = source(url)\n",
    "    regx = re.compile(r'\"playlistId\":\".*?,')\n",
    "    playlists = list(set(regx.findall(html)))\n",
    "    for playlist in playlists:\n",
    "        playlist = 'https://www.youtube.com/playlist?list='+playlist.replace('\"playlistId\":\"','').replace('\",','')\n",
    "        get_details(playlist)\n",
    "        \n",
    "url = input('Enter channel playlist page link: ')\n",
    "channel_details(url)"
   ]
  }
 ],
 "metadata": {
  "kernelspec": {
   "display_name": "Python 3",
   "language": "python",
   "name": "python3"
  },
  "language_info": {
   "codemirror_mode": {
    "name": "ipython",
    "version": 3
   },
   "file_extension": ".py",
   "mimetype": "text/x-python",
   "name": "python",
   "nbconvert_exporter": "python",
   "pygments_lexer": "ipython3",
   "version": "3.7.4"
  }
 },
 "nbformat": 4,
 "nbformat_minor": 2
}
